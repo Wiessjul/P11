{
 "cells": [
  {
   "cell_type": "code",
   "execution_count": 1,
   "id": "8d092e45",
   "metadata": {},
   "outputs": [],
   "source": [
    "# project: p10\n",
    "# submitter: wiessing\n",
    "# partner: mllaskowski\n",
    "# hours: 5"
   ]
  },
  {
   "cell_type": "code",
   "execution_count": 2,
   "id": "3a3e581a",
   "metadata": {},
   "outputs": [],
   "source": [
    "import os\n",
    "import csv\n",
    "import json\n",
    "from collections import namedtuple"
   ]
  },
  {
   "cell_type": "code",
   "execution_count": 3,
   "id": "9cd245be",
   "metadata": {},
   "outputs": [],
   "source": [
    "def list_files_in(pathname):\n",
    "    \"\"\"\n",
    "    Given a (relative) path called pathname, return a list of files at this path. \n",
    "    Make sure to exclude files that start with a \".\" from your list, \n",
    "    and that your list of files is sorted alphabetically before you return it.\n",
    "    \"\"\"\n",
    "    data_files = sorted(os.listdir(pathname))\n",
    "    sieved_data = list()\n",
    "    for data in data_files:\n",
    "        if data [0] != \".\":\n",
    "             sieved_data.append(data)\n",
    "            \n",
    "    return sieved_data\n"
   ]
  },
  {
   "cell_type": "code",
   "execution_count": null,
   "id": "09c6ca0e",
   "metadata": {},
   "outputs": [],
   "source": []
  },
  {
   "cell_type": "code",
   "execution_count": 4,
   "id": "542d9022",
   "metadata": {},
   "outputs": [
    {
     "data": {
      "text/plain": [
       "['channel_ids1.json',\n",
       " 'channel_ids2.json',\n",
       " 'channel_ids3.json',\n",
       " 'channel_ids4.json',\n",
       " 'channel_ids5.json',\n",
       " 'comment_data1.csv',\n",
       " 'comment_data2.csv',\n",
       " 'comment_data3.csv',\n",
       " 'comment_data4.csv',\n",
       " 'comment_data5.csv',\n",
       " 'video_data.csv',\n",
       " 'video_ids.json']"
      ]
     },
     "execution_count": 4,
     "metadata": {},
     "output_type": "execute_result"
    }
   ],
   "source": [
    "#Q1: What are the names of the files present in the data directory?\n",
    "\n",
    "list_files_in(\"data\")"
   ]
  },
  {
   "cell_type": "code",
   "execution_count": 5,
   "id": "65920c27",
   "metadata": {},
   "outputs": [],
   "source": [
    "def list_paths_in(pathname):\n",
    "    \"\"\"\n",
    "    Gets a list of files in pathname directory and generates relative paths to all the files,\n",
    "    using os.path.join function.\n",
    "    Returns a list of relative paths to each file inside pathname directory.\n",
    "    \"\"\"\n",
    "    data_list = list_files_in(pathname)\n",
    "    pathname_list = list()\n",
    "    \n",
    "    for data in data_list:\n",
    "        pathname_list.append(os.path.join(\"data\", data))\n",
    "        \n",
    "    return pathname_list\n",
    "        "
   ]
  },
  {
   "cell_type": "code",
   "execution_count": 6,
   "id": "973de8e1",
   "metadata": {},
   "outputs": [
    {
     "data": {
      "text/plain": [
       "['data/channel_ids1.json',\n",
       " 'data/channel_ids2.json',\n",
       " 'data/channel_ids3.json',\n",
       " 'data/channel_ids4.json',\n",
       " 'data/channel_ids5.json',\n",
       " 'data/comment_data1.csv',\n",
       " 'data/comment_data2.csv',\n",
       " 'data/comment_data3.csv',\n",
       " 'data/comment_data4.csv',\n",
       " 'data/comment_data5.csv',\n",
       " 'data/video_data.csv',\n",
       " 'data/video_ids.json']"
      ]
     },
     "execution_count": 6,
     "metadata": {},
     "output_type": "execute_result"
    }
   ],
   "source": [
    "#Q2: What are the paths of all the files in the data directory?\n",
    "data_paths = list_paths_in(\"data\")\n",
    "data_paths"
   ]
  },
  {
   "cell_type": "code",
   "execution_count": 7,
   "id": "7c9f8ef6",
   "metadata": {},
   "outputs": [
    {
     "data": {
      "text/plain": [
       "['data/comment_data1.csv',\n",
       " 'data/comment_data2.csv',\n",
       " 'data/comment_data3.csv',\n",
       " 'data/comment_data4.csv',\n",
       " 'data/comment_data5.csv']"
      ]
     },
     "execution_count": 7,
     "metadata": {},
     "output_type": "execute_result"
    }
   ],
   "source": [
    "#Q3: What are the paths of all the files whose name contains comment_data in our data directory?\n",
    "comment_paths = list()\n",
    "for i in range(len(data_paths)):\n",
    "    if \"comment_data\" in data_paths[i]:\n",
    "        comment_paths.append(data_paths[i])\n",
    "        \n",
    "comment_paths\n",
    "    "
   ]
  },
  {
   "cell_type": "code",
   "execution_count": 8,
   "id": "5105b386",
   "metadata": {},
   "outputs": [
    {
     "data": {
      "text/plain": [
       "['data/channel_ids1.json',\n",
       " 'data/channel_ids2.json',\n",
       " 'data/channel_ids3.json',\n",
       " 'data/channel_ids4.json',\n",
       " 'data/channel_ids5.json']"
      ]
     },
     "execution_count": 8,
     "metadata": {},
     "output_type": "execute_result"
    }
   ],
   "source": [
    "#Q4: What are the paths of all the files whose name contains channel_ids in our data directory?\n",
    "channel_paths = list()\n",
    "for i in range(len(data_paths)):\n",
    "    if \"channel_ids\" in data_paths[i]:\n",
    "        channel_paths.append(data_paths[i])\n",
    "        \n",
    "channel_paths"
   ]
  },
  {
   "cell_type": "code",
   "execution_count": 9,
   "id": "10007484",
   "metadata": {},
   "outputs": [],
   "source": [
    "def read_json(path):\n",
    "    with open(path, encoding=\"utf-8\") as f:\n",
    "        return json.load(f) # dict, list, etc\n"
   ]
  },
  {
   "cell_type": "code",
   "execution_count": 10,
   "id": "e6b9f5fc",
   "metadata": {},
   "outputs": [],
   "source": [
    "def get_mapping(pathname):\n",
    "    \"\"\"\n",
    "    Given a path called pathname, load the json data at the path and return the loaded json data.\n",
    "    If a json.JSONDecodeError is thrown, an empty dictionary is returned.\n",
    "    \"\"\"\n",
    "    try:\n",
    "        #possibly faulty coade\n",
    "        return read_json(pathname)\n",
    "    except (json.JSONDecodeError) as e:\n",
    "        # make empty dictionary\n",
    "        empty_dict = {}\n",
    "        return empty_dict\n"
   ]
  },
  {
   "cell_type": "code",
   "execution_count": null,
   "id": "52bac349",
   "metadata": {},
   "outputs": [],
   "source": []
  },
  {
   "cell_type": "code",
   "execution_count": 11,
   "id": "9968231e",
   "metadata": {},
   "outputs": [
    {
     "data": {
      "text/plain": [
       "'Al Jazeera English'"
      ]
     },
     "execution_count": 11,
     "metadata": {},
     "output_type": "execute_result"
    }
   ],
   "source": [
    "#Q5: What is the name of the channel with the ID UCNye-wNBqNL5ZzHSJj3l8Bg?\n",
    "json_data = get_mapping(os.path.join(\"data\", \"channel_ids1.json\"))\n",
    "json_data[\"UCNye-wNBqNL5ZzHSJj3l8Bg\"]"
   ]
  },
  {
   "cell_type": "code",
   "execution_count": 12,
   "id": "022c7d43",
   "metadata": {},
   "outputs": [
    {
     "data": {
      "text/plain": [
       "372"
      ]
     },
     "execution_count": 12,
     "metadata": {},
     "output_type": "execute_result"
    }
   ],
   "source": [
    "#Q6: How many channels do we have in the entire dataset?\n",
    "channel_dict = {}\n",
    "\n",
    "for path in channel_paths:\n",
    "    channel_mapping = get_mapping(path)\n",
    "    for channel in channel_mapping:\n",
    "        channel_dict[channel] = channel_mapping[channel]\n",
    "        \n",
    "channel_dict\n",
    "len(channel_dict)\n",
    "\n"
   ]
  },
  {
   "cell_type": "code",
   "execution_count": 13,
   "id": "3c652d51",
   "metadata": {},
   "outputs": [],
   "source": [
    "def process_csv(filename):\n",
    "    exampleFile = open(filename, encoding=\"utf-8\")  \n",
    "    exampleReader = csv.reader(exampleFile)\n",
    "    exampleData = list(exampleReader)        \n",
    "    exampleFile.close()  \n",
    "    return exampleData"
   ]
  },
  {
   "cell_type": "code",
   "execution_count": 14,
   "id": "4b761e88",
   "metadata": {},
   "outputs": [],
   "source": [
    "def get_comment_data(comment_file):\n",
    "    csv_data = process_csv(comment_file)\n",
    "    header = csv_data[0]\n",
    "    # TODO: if required, use a print function call to display header or alternatively, take a look at the comments csv file\n",
    "    #print(header)\n",
    "    comment_rows = csv_data[1:]\n",
    "    \n",
    "    # TODO: Get the indices for the other columns\n",
    "    comment_id_idx = header.index(\"comment_id\")\n",
    "    video_id_idx = header.index(\"video_id\")\n",
    "    comment_length_idx = header.index(\"comment_length\")\n",
    "    author_id_idx = header.index(\"author_id\")\n",
    "    likes_idx = header.index(\"likes\")\n",
    "    published_at_idx = header.index(\"published_at\")\n",
    "    \n",
    "    #print(video_id_idx)\n",
    "    \n",
    "    from collections import namedtuple\n",
    "    Comment = namedtuple(\"Comment\", [\"video_id\", \"comment_length\",\"author_id\",\"likes\",\"published_at\"])\n",
    "    comment_dict = dict()\n",
    "    \n",
    "    dud_rows = {}\n",
    "    \n",
    "    \n",
    "    # TODO: Iterate over comment_rows\n",
    "    for i in comment_rows:\n",
    "        try:\n",
    "            comment_id = i[comment_id_idx]\n",
    "            video_id = i[video_id_idx]\n",
    "            comment_length = int(i[comment_length_idx])\n",
    "            author_id = i[author_id_idx]\n",
    "            likes = int(i[likes_idx])\n",
    "            published_at = i[published_at_idx]\n",
    "            #print(\"success!\")\n",
    "            \n",
    "        except:\n",
    "            dud_rows[comment_id] = {}\n",
    "            #print(comment_id)\n",
    "            continue\n",
    "            \n",
    "        c = Comment(video_id, comment_length, author_id, likes, published_at)    \n",
    "        comment_dict[comment_id] = c\n",
    "        #print(type(comment_length))\n",
    "\n",
    "    return comment_dict\n",
    "        \n",
    "    # TODO:   Ignore rows with missing data. That is, ignore any row that has a cell with an empty string.\n",
    "    # TODO:   Create Comment object instance (custom type created with namedtuple)\n",
    "    # TODO:   Add each Comment to a dict with its comment ID as a key and Comment object reference as value\n",
    "    # TODO: return the dict of Comments"
   ]
  },
  {
   "cell_type": "code",
   "execution_count": null,
   "id": "2d04aed5",
   "metadata": {
    "scrolled": false
   },
   "outputs": [],
   "source": []
  },
  {
   "cell_type": "code",
   "execution_count": 15,
   "id": "9ea4ff50",
   "metadata": {},
   "outputs": [
    {
     "data": {
      "text/plain": [
       "Comment(video_id='udNXMAflbU8', comment_length=175, author_id='UCHkk7x38KWgqjQOHqsQwf0Q', likes=47, published_at='2021-10-10 17:48:38')"
      ]
     },
     "execution_count": 15,
     "metadata": {},
     "output_type": "execute_result"
    }
   ],
   "source": [
    "#Q7: What is the Comment object with comment ID UgygOezB4Mvd5o6FgAt4AaABAg\n",
    "comment_data1 = get_comment_data(os.path.join(\"data\", \"comment_data1.csv\"))\n",
    "comment_data1[\"UgygOezB4Mvd5o6FgAt4AaABAg\"]"
   ]
  },
  {
   "cell_type": "code",
   "execution_count": 16,
   "id": "be77eaee",
   "metadata": {},
   "outputs": [],
   "source": [
    "comments = {}\n",
    "for file in comment_paths:\n",
    "    comments.update(get_comment_data(file))\n",
    "    \n"
   ]
  },
  {
   "cell_type": "code",
   "execution_count": 17,
   "id": "908e1217",
   "metadata": {},
   "outputs": [
    {
     "data": {
      "text/plain": [
       "199979"
      ]
     },
     "execution_count": 17,
     "metadata": {},
     "output_type": "execute_result"
    }
   ],
   "source": [
    "len(comments)"
   ]
  },
  {
   "cell_type": "code",
   "execution_count": 18,
   "id": "ffc09cbe",
   "metadata": {},
   "outputs": [
    {
     "data": {
      "text/plain": [
       "67"
      ]
     },
     "execution_count": 18,
     "metadata": {},
     "output_type": "execute_result"
    }
   ],
   "source": [
    "#Q8: What is the length of the comment with ID UgztIaGfqFoiGvbOdfp4AaABAg?\n",
    "sample_id = comments[\"UgztIaGfqFoiGvbOdfp4AaABAg\"]\n",
    "sample_id.comment_length"
   ]
  },
  {
   "cell_type": "code",
   "execution_count": 19,
   "id": "43e6ba2e",
   "metadata": {},
   "outputs": [],
   "source": [
    "#Q9: What percentage of comments are at most 140 characters long?\n",
    "pass"
   ]
  },
  {
   "cell_type": "code",
   "execution_count": 20,
   "id": "7b882cba",
   "metadata": {},
   "outputs": [
    {
     "data": {
      "text/plain": [
       "'UCIPPMRA040LQr5QPyJEbmXA'"
      ]
     },
     "execution_count": 20,
     "metadata": {},
     "output_type": "execute_result"
    }
   ],
   "source": [
    "#Q10: What is the author ID of the comment that has the highest number of likes\n",
    "\n",
    "most_likes = 0\n",
    "most_lked_author = None\n",
    "\n",
    "for comment in comments:\n",
    "    target_tuple = comments[comment]\n",
    "    likes = target_tuple.likes\n",
    "    author = target_tuple.author_id\n",
    "    if likes >= most_likes:\n",
    "        most_likes = likes\n",
    "        most_lked_author = author\n",
    "\n",
    "        \n",
    "most_lked_author"
   ]
  },
  {
   "cell_type": "code",
   "execution_count": 21,
   "id": "b137f63c",
   "metadata": {},
   "outputs": [
    {
     "data": {
      "text/plain": [
       "19"
      ]
     },
     "execution_count": 21,
     "metadata": {},
     "output_type": "execute_result"
    }
   ],
   "source": [
    "#Q11: What is the most popular hour for publishing comments?\n",
    "hour_dict = dict()\n",
    "for comment in comments:\n",
    "    target_tuple = comments[comment]\n",
    "    date_published = target_tuple.published_at\n",
    "    hour_published = date_published[11:13]\n",
    "    if hour_published not in hour_dict:\n",
    "        hour_dict[hour_published] = 1\n",
    "    else:\n",
    "        hour_dict[hour_published] += 1\n",
    "\n",
    "most_popular_hour = None\n",
    "most_posted_videos = 0\n",
    "\n",
    "for hour in hour_dict:\n",
    "    if hour_dict[hour] >= most_posted_videos:\n",
    "        most_popular_hour = int(hour)\n",
    "        most_posted_videos = hour_dict[hour]\n",
    "        \n",
    "most_popular_hour"
   ]
  },
  {
   "cell_type": "code",
   "execution_count": 22,
   "id": "399c1861",
   "metadata": {},
   "outputs": [],
   "source": [
    "#comments_dict cell\n",
    "\n",
    "comments_dict = {}\n",
    "\n",
    "for comment in comments:\n",
    "    target_tuple = (comments[comment])\n",
    "    video_id = target_tuple.video_id\n",
    "    if video_id not in comments_dict:\n",
    "        comments_dict[video_id] = list()\n",
    "        comments_dict[video_id].append(comment)\n",
    "    else:\n",
    "        comments_dict[video_id].append(comment)\n",
    "        \n",
    "\n",
    "\n"
   ]
  },
  {
   "cell_type": "code",
   "execution_count": 23,
   "id": "5992d52b",
   "metadata": {},
   "outputs": [
    {
     "data": {
      "text/plain": [
       "606"
      ]
     },
     "execution_count": 23,
     "metadata": {},
     "output_type": "execute_result"
    }
   ],
   "source": [
    "#Q12: How many comments does the video with ID A8rrr_w8rfk have?\n",
    "len(comments_dict[\"A8rrr_w8rfk\"])"
   ]
  },
  {
   "cell_type": "code",
   "execution_count": 24,
   "id": "2b1bd89f",
   "metadata": {},
   "outputs": [
    {
     "data": {
      "text/plain": [
       "['video_id',\n",
       " 'channel_id',\n",
       " 'published_at',\n",
       " 'duration',\n",
       " 'category',\n",
       " 'tags',\n",
       " 'views',\n",
       " 'likes',\n",
       " 'dislikes']"
      ]
     },
     "execution_count": 24,
     "metadata": {},
     "output_type": "execute_result"
    }
   ],
   "source": [
    "data = process_csv(os.path.join('data','video_data.csv'))\n",
    "header = data[0]\n",
    "header"
   ]
  },
  {
   "cell_type": "code",
   "execution_count": 37,
   "id": "e94da25f",
   "metadata": {},
   "outputs": [],
   "source": [
    "def get_videos(data_file, video_mapping_file):\n",
    "    \"\"\"\n",
    "    Given data_file (csv file) and video_mapping_file (json) file, generates a video\n",
    "    dictionary, mapping video ID to a dictionary containing title, and other details of the video.\n",
    "    Handles missing entry in video_ids.json by using try / except blocks to handle KeyError.\n",
    "    \"\"\"\n",
    "    data = process_csv(data_file)\n",
    "    header = data[0]\n",
    "    all_videos = data[1:]\n",
    "    video_mapping = get_mapping(video_mapping_file)\n",
    "    videos_dict = dict()\n",
    "    \n",
    "    video_id_idx = header.index(\"video_id\")\n",
    "    channel_id_idx = header.index(\"channel_id\")\n",
    "    published_at_idx = header.index(\"published_at\")\n",
    "    duration_idx = header.index(\"duration\")\n",
    "    category_idx = header.index(\"category\")\n",
    "    tags_idx = header.index(\"tags\")\n",
    "    views_idx = header.index(\"views\")\n",
    "    likes_idx = header.index(\"likes\")\n",
    "    dislikes_idx = header.index (\"dislikes\")\n",
    "    \n",
    "    #print(channel_dict)\n",
    "    \n",
    "    for video in all_videos:\n",
    "        try:\n",
    "            video_id = video[video_id_idx]\n",
    "            title = video_mapping[video_id]\n",
    "            channel_id = video[channel_id_idx]\n",
    "            channel_name = channel_dict[channel_id]\n",
    "            published_at = video[published_at_idx]\n",
    "            duration = video[duration_idx]\n",
    "            category = video[category_idx]\n",
    "            tags = video[tags_idx]\n",
    "            views = int(video[views_idx])\n",
    "            likes = int(video[likes_idx])\n",
    "            dislikes = int(video[dislikes_idx])\n",
    "            comments = comments_dict[video_id]\n",
    "            \n",
    "            if video_id not in videos_dict:\n",
    "                videos_dict[video_id] = {}\n",
    "                videos_dict[video_id][\"title\"] = title\n",
    "                videos_dict[video_id][\"channel_name\"] = channel_name\n",
    "                videos_dict[video_id][\"published_at\"] = published_at\n",
    "                videos_dict[video_id][\"duration\"] = duration\n",
    "                videos_dict[video_id][\"category\"] = category\n",
    "                videos_dict[video_id][\"tags\"] = tags\n",
    "                videos_dict[video_id][\"views\"] = views\n",
    "                videos_dict[video_id][\"likes\"] = likes\n",
    "                videos_dict[video_id][\"dislikes\"] = dislikes\n",
    "                videos_dict[video_id][\"comments\"] = comments\n",
    "\n",
    "\n",
    "                \n",
    "                \n",
    "            \n",
    "        except Exception as e:\n",
    "            continue\n",
    "            \n",
    "    \n",
    "    return videos_dict"
   ]
  },
  {
   "cell_type": "code",
   "execution_count": 38,
   "id": "19aef7a7",
   "metadata": {},
   "outputs": [],
   "source": [
    "#This is where we store our videos variable. It lags out your computer, don't recall it!\n",
    "videos = get_videos(os.path.join('data','video_data.csv'), os.path.join('data','video_ids.json'))"
   ]
  },
  {
   "cell_type": "code",
   "execution_count": 39,
   "id": "d00df244",
   "metadata": {},
   "outputs": [
    {
     "data": {
      "text/plain": [
       "{'title': 'SWAWS | Totally Accurate Battlegrounds',\n",
       " 'channel_name': 'TheRussianBadger',\n",
       " 'published_at': '2021-10-12 19:01:41',\n",
       " 'duration': '00:18:46',\n",
       " 'category': 'Gaming',\n",
       " 'tags': 'tot|totally accurate battlegrounds|tabg|totally accurate battle simulator|totally accurate battlegrounds gameplay|totally accurate battle grounds|tabg gameplay|tabg game|tabs|totally accurate|totally accurate battle royale|battle royale|tabg funny|fortnite|battlegrounds|tabs battle royale|new battle royale|pubg|totally accurate battlegrounds funny|swaws|swaws meme|swaws russian badger|tabg update|tabg win|tabg br|free to play pc games|free to play',\n",
       " 'views': 3172185,\n",
       " 'likes': 210951,\n",
       " 'dislikes': 1824,\n",
       " 'comments': ['UgzgwN2JXxjTN4mR5954AaABAg.9TPxukUd20g9TQLnJi3RFU',\n",
       "  'Ugw8z3sbkSQQpgINHdl4AaABAg',\n",
       "  'UgyjZAl0XlNg-gOZ0jR4AaABAg.9TPyCmI6pbl9TQAXc7oVx_',\n",
       "  'Ugy1W1ldfeXB5VavpEB4AaABAg',\n",
       "  'Ugz-5ND1_48bvR--K-h4AaABAg.9TcESnaSWQO9TwybqLquLh',\n",
       "  'Ugw8yRjg6yeaJ-KJmvN4AaABAg',\n",
       "  'Ugxvp2D5qsf_Kz3qLfJ4AaABAg',\n",
       "  'UgyjZAl0XlNg-gOZ0jR4AaABAg.9TPyCmI6pbl9TS3pUjvdvY',\n",
       "  'Ugx7Z_ZM2zeYpgTo2V54AaABAg.9TPtkn_qSTN9TQ53TeDjlr',\n",
       "  'UgyJSgJPxm3-cOi3bSh4AaABAg',\n",
       "  'UgxpmEEjcu4ATnKp_dt4AaABAg.9TPdawdmb1E9TS4AKca9bH',\n",
       "  'Ugwq8srR6ykQ2_6mgRB4AaABAg',\n",
       "  'UgyjZAl0XlNg-gOZ0jR4AaABAg',\n",
       "  'Ugyvf9XkcWXRZx7icN14AaABAg',\n",
       "  'UgyjZAl0XlNg-gOZ0jR4AaABAg.9TPyCmI6pbl9TQFiNbKjs4',\n",
       "  'UgxHObmG9Ifype4Dtjh4AaABAg',\n",
       "  'Ugy2t0J2rMrLqVCcAxV4AaABAg',\n",
       "  'UgzZWUkzBIwfWd81Azd4AaABAg.9TSUVio8FDs9TX0cFy0cPn',\n",
       "  'Ugxp63hxPOpvnQXfmfN4AaABAg',\n",
       "  'Ugywck2nfxGf1P-jGrV4AaABAg.9TTUaC5BZm99TUWmUYdTW3',\n",
       "  'UgyF54uSxOw317OaxW94AaABAg',\n",
       "  'Ugz-hiG5y5Ifo2hXQRd4AaABAg.9TPd_-XUJf_9TS3y-fezid',\n",
       "  'UgwQZBclHDt-blfzYwh4AaABAg',\n",
       "  'UgzZWUkzBIwfWd81Azd4AaABAg.9TSUVio8FDs9TUQsdd2w1L',\n",
       "  'Ugz-hiG5y5Ifo2hXQRd4AaABAg.9TPd_-XUJf_9TQEttSsTwV',\n",
       "  'Ugz-hiG5y5Ifo2hXQRd4AaABAg.9TPd_-XUJf_9TabMdgwb7s',\n",
       "  'Ugz5310iuzanBWihavR4AaABAg',\n",
       "  'UgzvogxMg82Kj0aW84x4AaABAg',\n",
       "  'UgzZWUkzBIwfWd81Azd4AaABAg.9TSUVio8FDs9TUyS8-BWoG',\n",
       "  'UgwDeZIB2YoH3gT3LNt4AaABAg',\n",
       "  'UgzakPEp05WspBho1RJ4AaABAg.9TlhjvACtRu9TyzsrPsOxh',\n",
       "  'UgyZtlx_fwNidAjBVdR4AaABAg',\n",
       "  'UgwNv3MdCPrD0arufSZ4AaABAg',\n",
       "  'UgyXBz5CH6Q9rmwcRhp4AaABAg.9TQ2wkUS5H99TxG3z1lyQL',\n",
       "  'UgxUGNNhbZQnp9D_Yep4AaABAg',\n",
       "  'Ugxw406F2KiRt6h0Eg54AaABAg.9TQRqjzQH199TQiRp2YQOJ',\n",
       "  'Ugyi22jKbQYthMkJnaN4AaABAg',\n",
       "  'Ugz-5ND1_48bvR--K-h4AaABAg',\n",
       "  'Ugz5jelTNmzEROhDeUB4AaABAg',\n",
       "  'UgyIBw19on3SuDypRTx4AaABAg',\n",
       "  'UgxvNfLi21bGDhlsuGN4AaABAg.9TQRqu-Qzx79TWgpd0gXUF',\n",
       "  'UgzaSBdz7kdutGQnJJJ4AaABAg',\n",
       "  'UgyF54uSxOw317OaxW94AaABAg.9TQ42Lqa9o09Tc8fhL52xl']}"
      ]
     },
     "execution_count": 39,
     "metadata": {},
     "output_type": "execute_result"
    }
   ],
   "source": [
    "#Q13: What is the video with ID fkMW60W180E?\n",
    "videos[\"fkMW60W180E\"]"
   ]
  },
  {
   "cell_type": "code",
   "execution_count": 28,
   "id": "42a2e1e1",
   "metadata": {},
   "outputs": [
    {
     "data": {
      "text/plain": [
       "'A Mukbanger Ate 1 Gallon Pickles. This Is What Happened To Her Brain.'"
      ]
     },
     "execution_count": 28,
     "metadata": {},
     "output_type": "execute_result"
    }
   ],
   "source": [
    "#Q14: What is the title of the video with ID gF69voHU_ys?\n",
    "videos[\"gF69voHU_ys\"][\"title\"]"
   ]
  },
  {
   "cell_type": "code",
   "execution_count": 29,
   "id": "e634a36d",
   "metadata": {},
   "outputs": [
    {
     "data": {
      "text/plain": [
       "'[In the SOOP BTS ver. Season 2] Official Teaser 2'"
      ]
     },
     "execution_count": 29,
     "metadata": {},
     "output_type": "execute_result"
    }
   ],
   "source": [
    "#Q15: Among the videos with more than 1 million views, what is the title of the video with the highest likes to views ratio?\n",
    "\n",
    "most_liked_viewed_title = None\n",
    "most_likes_ratio = 0\n",
    "\n",
    "for video_id in videos:\n",
    "    \n",
    "    video_likes = videos[video_id][\"likes\"]\n",
    "    views = videos[video_id][\"views\"]\n",
    "    title = videos[video_id][\"title\"]\n",
    "    \n",
    "    if videos[video_id][\"views\"] >= 1000000:\n",
    "        ratio = (video_likes/views)\n",
    "        if ratio >= most_likes_ratio:\n",
    "            most_likes_ratio = ratio\n",
    "            most_liked_viewed_title = title\n",
    "            \n",
    "most_liked_viewed_title\n",
    "    \n",
    "    \n",
    "    #print(videos[video_id][\"views\"])\n"
   ]
  },
  {
   "cell_type": "code",
   "execution_count": 30,
   "id": "bcc1325b",
   "metadata": {},
   "outputs": [
    {
     "data": {
      "text/plain": [
       "'UCRvcDpyxCVmlLI8Q2TjRpmg'"
      ]
     },
     "execution_count": 30,
     "metadata": {},
     "output_type": "execute_result"
    }
   ],
   "source": [
    "#Q16: What is the author ID of the most liked comment under the video titled 'Giving Away My Beard For Charity!'?\n",
    "most_likes = 0\n",
    "most_liked_author = None\n",
    "\n",
    "for video_id in videos:\n",
    "    if videos[video_id][\"title\"] == 'Giving Away My Beard For Charity!':\n",
    "        target_video_comments = videos[video_id][\"comments\"]\n",
    "        for i in range(len(target_video_comments)):\n",
    "            comment_id = (target_video_comments[i])\n",
    "            target_comment = comments[comment_id]\n",
    "            target_likes = target_comment.likes\n",
    "            target_author_id = target_comment.author_id\n",
    "            \n",
    "            if target_likes > most_likes:\n",
    "                most_likes = target_likes\n",
    "                most_liked_author = target_author_id\n",
    "                \n",
    "most_liked_author\n",
    "           \n",
    "        "
   ]
  },
  {
   "cell_type": "code",
   "execution_count": 31,
   "id": "c8e3e85d",
   "metadata": {},
   "outputs": [],
   "source": [
    "def old_bucketize(movie_list, category):\n",
    "    \"\"\"\n",
    "    Input: A list of movies and a category string.\n",
    "    Return: A dictionary that bucketizes `movie_list` by `category`.\n",
    "    Requirements: See the instructions in README.md\n",
    "    \"\"\"\n",
    "    \n",
    "    movies_by_category_dict = {}\n",
    "    for movie in movie_list:\n",
    "        movie_category = movie[category]\n",
    "        \n",
    "        #if the category input is a list, do funky things\n",
    "        if type(movie_category) == list:\n",
    "            for idx in range(len(movie_category)):\n",
    "                target_category = movie_category[idx]\n",
    "                if target_category not in movies_by_category_dict:\n",
    "                    movies_by_category_dict[target_category] = list()\n",
    "                    movies_by_category_dict[target_category].append(movie)\n",
    "                else:\n",
    "                    movies_by_category_dict[target_category].append(movie)\n",
    "                    \n",
    "        else:\n",
    "            #if the input category is not a list, much simpler!\n",
    "            if movie_category not in movies_by_category_dict:\n",
    "                movies_by_category_dict[movie_category] = list()\n",
    "                movies_by_category_dict[movie_category].append(movie)\n",
    "            else:\n",
    "                movies_by_category_dict[movie_category].append(movie)\n",
    "        \n",
    "    \n",
    "    return movies_by_category_dict"
   ]
  },
  {
   "cell_type": "code",
   "execution_count": 32,
   "id": "a6ec2195",
   "metadata": {},
   "outputs": [],
   "source": [
    "def bucketize(attribute, videos=videos):\n",
    "  #TODO: This is very similar to bucketize from the last project\n",
    "\n",
    "    videos_by_attribute_dict = {}\n",
    "    \n",
    "    for video_id in videos:\n",
    "        target_video = videos[video_id]\n",
    "        target_attribute = target_video[attribute]\n",
    "        \n",
    "        if type(target_attribute) == list:\n",
    "            for idx in range(len(target_attribute)):\n",
    "                lookup_attribute = target_attribute[idx]\n",
    "                if lookup_attribute not in videos_by_attribute_dict:\n",
    "                    videos_by_attribute_dict[lookup_attribute] = list()\n",
    "                    videos_by_attribute_dict[lookup_attribute].append(video_id)\n",
    "                else:\n",
    "                    videos_by_attribute_dict[lookup_attribute].append(video_id)\n",
    "                    \n",
    "        else:\n",
    "            if target_attribute not in videos_by_attribute_dict:\n",
    "                videos_by_attribute_dict[target_attribute] = list()\n",
    "                videos_by_attribute_dict[target_attribute].append(video_id)\n",
    "            else:\n",
    "                videos_by_attribute_dict[target_attribute].append(video_id)\n",
    "                \n",
    "    return videos_by_attribute_dict\n",
    "        "
   ]
  },
  {
   "cell_type": "code",
   "execution_count": null,
   "id": "24874419",
   "metadata": {},
   "outputs": [],
   "source": []
  },
  {
   "cell_type": "code",
   "execution_count": 33,
   "id": "be20140d",
   "metadata": {},
   "outputs": [],
   "source": [
    "category_dict = bucketize('category')\n",
    "assert category_dict['Pets & Animals'] == ['Hz_DslzN2IA', 'AwvyrO_yM4c']"
   ]
  },
  {
   "cell_type": "code",
   "execution_count": 34,
   "id": "ccfe571b",
   "metadata": {},
   "outputs": [
    {
     "data": {
      "text/plain": [
       "['VFX Artists React to SHANG-CHi Bad & Great CGi',\n",
       " 'VFX Artists React to Bad & Great CGi 54 (ft. SETH ROGEN)']"
      ]
     },
     "execution_count": 34,
     "metadata": {},
     "output_type": "execute_result"
    }
   ],
   "source": [
    "#Q17: Which video titles were produced by the \"Corridor Crew\" channel?\n",
    "channel_buckets = bucketize(\"channel_name\")\n",
    "\n",
    "cc_titles = list()\n",
    "\n",
    "for video_id in channel_buckets[\"Corridor Crew\"]:\n",
    "    cc_titles.append(videos[video_id][\"title\"])\n",
    "    \n",
    "cc_titles\n",
    "\n"
   ]
  },
  {
   "cell_type": "code",
   "execution_count": 35,
   "id": "e5a39dfa",
   "metadata": {},
   "outputs": [
    {
     "data": {
      "text/plain": [
       "['NFL', 'Minecraft', 'Saturday Night Live', 'SSSniperWolf', 'PBC ON FOX']"
      ]
     },
     "execution_count": 35,
     "metadata": {},
     "output_type": "execute_result"
    }
   ],
   "source": [
    "#Q18: What are the top 5 channels that have the most total comments on their videos?\n",
    "\n",
    "channel_comment_count_mapping = dict()\n",
    "\n",
    "for channel in channel_buckets:\n",
    "    channel_video_ids = channel_buckets[channel]\n",
    "    for video_ids in channel_video_ids:\n",
    "        target_video = videos[video_ids]\n",
    "        total_comments = len(target_video[\"comments\"])\n",
    "        #print(total_comments)\n",
    "        \n",
    "        if channel not in channel_comment_count_mapping:\n",
    "            channel_comment_count_mapping[channel] = total_comments\n",
    "        else:\n",
    "            channel_comment_count_mapping[channel] += total_comments\n",
    "            \n",
    "top_5 = sorted(channel_comment_count_mapping.items(), key = lambda item: item[1], reverse = True)\n",
    "top_5_list = list()\n",
    "for i in range(len(top_5[0:5])):\n",
    "    top_5_list.append(top_5[i][0])\n",
    "    \n",
    "top_5_list\n",
    "       "
   ]
  },
  {
   "cell_type": "code",
   "execution_count": 36,
   "id": "38bc8dc7",
   "metadata": {},
   "outputs": [],
   "source": [
    "tag_buckets = bucketize(\"tags\")"
   ]
  },
  {
   "cell_type": "code",
   "execution_count": 39,
   "id": "7a5885c8",
   "metadata": {},
   "outputs": [
    {
     "data": {
      "text/plain": [
       "['Realistic Golem Transforming',\n",
       " 'You Laugh You Lose Is Even Funnier In Real Life...',\n",
       " 'I Survived 100 Days as a PANDA in HARDCORE Minecraft!',\n",
       " 'can 1 pixel of water save you?',\n",
       " 'I Survived 100 Days as an ENDER DRAGON in Minecraft',\n",
       " 'Philza And Wilbur TEACH Tommy To FLY And Its SCUFFED LORE! ORIGINS SMP',\n",
       " 'Realistic Water in Minecraft...',\n",
       " \"Minecraft, But There's Custom End City Items...\",\n",
       " 'She Wants Us DEAD! 💀 Dark Deception Chapter 4 (FGTeeV Telekinesis Gameplay)',\n",
       " 'Building AUTOMATIC FARMS in Minecraft Hardcore (#52)',\n",
       " 'Hermitcraft 8 Episode 14:  BETRAYING BOATEM',\n",
       " 'I Found the RICHEST Server in Minecraft! *millionaire*',\n",
       " 'Playing SQUID GAME in Minecraft!',\n",
       " \"Minecraft, But You Can't Leave The End...\",\n",
       " 'Minecraft but all Mobs are Dragons',\n",
       " 'I Cheated with a \"FAKE\" Professional Builder in a Building Competition...',\n",
       " 'Minecraft, But I Add A Marshmallow Every Minute...',\n",
       " 'SURVIVING SQUID GAME in GTA 5',\n",
       " 'I made a custom mod in minecraft with your ideas',\n",
       " 'I Won SQUID GAME In GTA 5! (Mods)',\n",
       " 'What is the Safest Base Possible in Minecraft?',\n",
       " 'Jumping SQUID GAME CARS Across ENTIRE MAP In GTA 5! (Mods)',\n",
       " 'Playing SQUID GAME In Minecraft!',\n",
       " 'I Survived 69 Hours Using Only Minecraft Tools',\n",
       " 'I Survived 1,900 Days in HARDCORE Minecraft...',\n",
       " 'Becoming SQUID GAME Host in GTA 5! (GTA 5 Mods)',\n",
       " 'Minecraft Mobs when you log off...',\n",
       " \"2b2t's Obsidian War is Getting Ridiculous\",\n",
       " 'MURDER DRONES [OFFICIAL TRAILER]',\n",
       " \"Minecraft, But We're All Mutant Superhumans...\",\n",
       " 'I Trapped 10 YouTubers on One Block',\n",
       " '46 Minecraft Blocks Mojang Had To Remove',\n",
       " 'Minecraft but you can Eat Mobs',\n",
       " 'I Survived 100 Days as a FOX in HARDCORE Minecraft!',\n",
       " 'We Fought a Viking Horde...',\n",
       " 'I Designed Custom Minecraft Bosses...',\n",
       " 'I Built an AUTOMATIC Mob Loot Farm in Minecraft Hardcore! (#22)',\n",
       " 'Last Life: Episode 4 - UH OH!',\n",
       " 'Minecraft Manhunt but I have CUSTOM COMMANDS',\n",
       " 'Minecraft Mobs if they were Parents',\n",
       " '\"Eternal\" - A Minecraft Music Video ♪',\n",
       " 'Which Mob Am I Voting For in Minecraft Live 2021?!',\n",
       " 'What Mob Should Be Added To Minecraft?',\n",
       " 'So I made Dance Moves control Minecraft...',\n",
       " 'I tested them in Minecraft early and so should you...',\n",
       " 'Minecraft Mobs if they were Superheroes',\n",
       " 'Minecraft Death Shuffle...',\n",
       " '100 Days, But There Are Custom Dimensions...']"
      ]
     },
     "execution_count": 39,
     "metadata": {},
     "output_type": "execute_result"
    }
   ],
   "source": [
    "#Q19: List all the unique video titles which have Minecraft tags.\n",
    "\n",
    "minecraft_tags_title_list = list()\n",
    "\n",
    "for tag in tag_buckets:\n",
    "    if \"minecraft\" in tag:\n",
    "        video_ids = (tag_buckets[tag])\n",
    "        for video in video_ids:\n",
    "            title = videos[video][\"title\"]\n",
    "            if title not in minecraft_tags_title_list:\n",
    "                minecraft_tags_title_list.append(title)\n",
    "\n",
    "minecraft_tags_title_list"
   ]
  },
  {
   "cell_type": "code",
   "execution_count": 40,
   "id": "dfe584ee",
   "metadata": {},
   "outputs": [
    {
     "data": {
      "text/plain": [
       "['When someone walks in while you using the bathroom😭',\n",
       " 'Smart Appliances, Gadgets For Every Home 🤩 Versatile Utensils, Kitchen, Makeup, Beauty #Shorts',\n",
       " 'Italians reacting to ketchup on pasta 😱🇮🇹 #shorts',\n",
       " 'My hidden talent #shorts',\n",
       " 'Knot']"
      ]
     },
     "execution_count": 40,
     "metadata": {},
     "output_type": "execute_result"
    }
   ],
   "source": [
    "#Q20: List the titles of the 5 shortest videos.\n",
    "\n",
    "shortest_video_dict = dict()\n",
    "\n",
    "for video in videos:\n",
    "    duration = (videos[video][\"duration\"])\n",
    "    title = videos[video][\"title\"]\n",
    "    shortest_video_dict[title] = duration\n",
    "    \n",
    "\n",
    "shortest_video_sorted = sorted(shortest_video_dict.items(), key = lambda item: item[1])\n",
    "    \n",
    "shortest_video_titles = list()\n",
    "\n",
    "for i in range(len(shortest_video_sorted[0:5])):\n",
    "    shortest_video_titles.append(shortest_video_sorted[i][0])\n",
    "\n",
    "shortest_video_titles\n",
    "    "
   ]
  },
  {
   "cell_type": "code",
   "execution_count": null,
   "id": "c5093114",
   "metadata": {},
   "outputs": [],
   "source": []
  }
 ],
 "metadata": {
  "kernelspec": {
   "display_name": "Python 3 (ipykernel)",
   "language": "python",
   "name": "python3"
  },
  "language_info": {
   "codemirror_mode": {
    "name": "ipython",
    "version": 3
   },
   "file_extension": ".py",
   "mimetype": "text/x-python",
   "name": "python",
   "nbconvert_exporter": "python",
   "pygments_lexer": "ipython3",
   "version": "3.9.7"
  }
 },
 "nbformat": 4,
 "nbformat_minor": 5
}
