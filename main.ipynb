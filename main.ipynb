{
 "cells": [
  {
   "cell_type": "code",
   "execution_count": 1,
   "id": "9f7bcf0f",
   "metadata": {},
   "outputs": [],
   "source": [
    "# project: p11\n",
    "# submitter: NETID1\n",
    "# partner: NETID2\n",
    "# hours: ????\n"
   ]
  },
  {
   "cell_type": "code",
   "execution_count": 74,
   "id": "93297db4",
   "metadata": {},
   "outputs": [],
   "source": [
    "#import cell\n",
    "# add code to import the os module\n",
    "import os\n",
    "# add code to import the csv module\n",
    "import csv\n",
    "# add code to import the json module\n",
    "import json\n",
    "# add code to import the pandas module\n",
    "import pandas\n",
    "# add code to import the matplotlib module\n",
    "import matplotlib\n",
    "# add code to import nametuple type *from* collections\n",
    "from collections import namedtuple\n",
    "from datetime import datetime as dt #this is for a time_delta only\n",
    "from questions import view_plot_data, verify_bar, verify_scatter\n",
    "import copy\n",
    "\n",
    "from questions import view_plot_data, verify_bar, verify_scatter"
   ]
  },
  {
   "cell_type": "code",
   "execution_count": 3,
   "id": "3b02502d",
   "metadata": {},
   "outputs": [],
   "source": [
    "#Required followup cell\n",
    "%matplotlib inline"
   ]
  },
  {
   "cell_type": "code",
   "execution_count": 4,
   "id": "a25abbaa",
   "metadata": {},
   "outputs": [],
   "source": [
    "#required functions, in different cells because during lab 11 we realized some weren't working 100%, oops! easier\n",
    "#to spot fix if they are in different cells\n",
    "#read_json\n",
    "def read_json(path):\n",
    "    with open(path, encoding='utf-8') as f:\n",
    "        return json.load(f)"
   ]
  },
  {
   "cell_type": "code",
   "execution_count": 5,
   "id": "c4aeb2e6",
   "metadata": {},
   "outputs": [],
   "source": [
    "#get_mapping\n",
    "def get_mapping(pathname):\n",
    "    \"\"\"\n",
    "    Given a path called pathname, load the json data at the path and return the loaded json data.\n",
    "    If a json.JSONDecodeError is thrown, an empty dictionary is returned.\n",
    "    \"\"\"\n",
    "    try:\n",
    "        #possibly faulty coade\n",
    "        return read_json(pathname)\n",
    "    except (json.JSONDecodeError) as e:\n",
    "        # make empty dictionary\n",
    "        empty_dict = {}\n",
    "        return empty_dict"
   ]
  },
  {
   "cell_type": "code",
   "execution_count": 6,
   "id": "9466400c",
   "metadata": {},
   "outputs": [],
   "source": [
    "#comment json\n",
    "#in P10 we put this inside the get_comment_data, but now its not!\n",
    "from collections import namedtuple\n",
    "Comment = namedtuple(\"Comment\", [\"video_id\", \"comment_length\",\"author_id\",\"likes\",\"published_at\"])"
   ]
  },
  {
   "cell_type": "code",
   "execution_count": 7,
   "id": "d7279a51",
   "metadata": {},
   "outputs": [],
   "source": [
    "#get comment data\n",
    "def get_comment_data(comment_file):\n",
    "    csv_data = process_csv(comment_file)\n",
    "    header = csv_data[0]\n",
    "    # TODO: if required, use a print function call to display header or alternatively, take a look at the comments csv file\n",
    "    #print(header)\n",
    "    comment_rows = csv_data[1:]\n",
    "    \n",
    "    # TODO: Get the indices for the other columns\n",
    "    comment_id_idx = header.index(\"comment_id\")\n",
    "    video_id_idx = header.index(\"video_id\")\n",
    "    comment_length_idx = header.index(\"comment_length\")\n",
    "    author_id_idx = header.index(\"author_id\")\n",
    "    likes_idx = header.index(\"likes\")\n",
    "    published_at_idx = header.index(\"published_at\")\n",
    "    \n",
    "    #print(video_id_idx)\n",
    "    \n",
    "    comment_dict = dict()\n",
    "    \n",
    "    dud_rows = {}\n",
    "    \n",
    "    \n",
    "    # TODO: Iterate over comment_rows\n",
    "    for i in comment_rows:\n",
    "        try:\n",
    "            comment_id = i[comment_id_idx]\n",
    "            video_id = i[video_id_idx]\n",
    "            comment_length = int(i[comment_length_idx])\n",
    "            author_id = i[author_id_idx]\n",
    "            likes = int(i[likes_idx])\n",
    "            published_at = i[published_at_idx]\n",
    "            #print(\"success!\")\n",
    "            \n",
    "        except:\n",
    "            dud_rows[comment_id] = {}\n",
    "            #print(comment_id)\n",
    "            continue\n",
    "            \n",
    "        c = Comment(video_id, comment_length, author_id, likes, published_at)    \n",
    "        comment_dict[comment_id] = c\n",
    "        #print(type(comment_length))\n",
    "\n",
    "    return comment_dict\n",
    "        "
   ]
  },
  {
   "cell_type": "code",
   "execution_count": 8,
   "id": "e76ed5fd",
   "metadata": {},
   "outputs": [],
   "source": [
    "#bucketize func\n",
    "\n",
    "def bucketize(attribute, videos):\n",
    "\n",
    "    videos_by_attribute_dict = {}\n",
    "    \n",
    "    for video_id in videos:\n",
    "        target_video = videos[video_id]\n",
    "        target_attribute = target_video[attribute]\n",
    "        \n",
    "        if type(target_attribute) == list:\n",
    "            for idx in range(len(target_attribute)):\n",
    "                lookup_attribute = target_attribute[idx]\n",
    "                if lookup_attribute not in videos_by_attribute_dict:\n",
    "                    videos_by_attribute_dict[lookup_attribute] = list()\n",
    "                    videos_by_attribute_dict[lookup_attribute].append(video_id)\n",
    "                else:\n",
    "                    videos_by_attribute_dict[lookup_attribute].append(video_id)\n",
    "                    \n",
    "        else:\n",
    "            if target_attribute not in videos_by_attribute_dict:\n",
    "                videos_by_attribute_dict[target_attribute] = list()\n",
    "                videos_by_attribute_dict[target_attribute].append(video_id)\n",
    "            else:\n",
    "                videos_by_attribute_dict[target_attribute].append(video_id)\n",
    "                \n",
    "    return videos_by_attribute_dict"
   ]
  },
  {
   "cell_type": "code",
   "execution_count": 9,
   "id": "eefb5cbc",
   "metadata": {},
   "outputs": [],
   "source": [
    "#plot dict, for plotting dictionaries!\n",
    "def plot_dict(d, label=\"Please Label Me!!!\"):\n",
    "    ax = pandas.Series(d).sort_index().plot.bar(color=\"black\", fontsize=16)\n",
    "    ax.set_ylabel(label, fontsize=16)"
   ]
  },
  {
   "cell_type": "code",
   "execution_count": 10,
   "id": "01f4fded",
   "metadata": {},
   "outputs": [],
   "source": [
    "#our lord and savior process csv\n",
    "def process_csv(filename):\n",
    "    exampleFile = open(filename, encoding=\"utf-8\")  \n",
    "    exampleReader = csv.reader(exampleFile) \n",
    "    exampleData = list(exampleReader)        \n",
    "    exampleFile.close()  \n",
    "    return exampleData"
   ]
  },
  {
   "cell_type": "code",
   "execution_count": 11,
   "id": "008f1862",
   "metadata": {},
   "outputs": [],
   "source": [
    "#list files in\n",
    "def list_files_in(pathname):\n",
    "    \"\"\"\n",
    "    Given a (relative) path called pathname, return a list of files at this path. \n",
    "    Make sure to exclude files that start with a \".\" from your list, \n",
    "    and that your list of files is sorted alphabetically before you return it.\n",
    "    \"\"\"\n",
    "    data_files = sorted(os.listdir(pathname))\n",
    "    sieved_data = list()\n",
    "    for data in data_files:\n",
    "        if data [0] != \".\":\n",
    "             sieved_data.append(data)\n",
    "            \n",
    "    return sieved_data"
   ]
  },
  {
   "cell_type": "code",
   "execution_count": 12,
   "id": "7d66df0e",
   "metadata": {},
   "outputs": [],
   "source": [
    "def list_paths_in(pathname):\n",
    "    \"\"\"\n",
    "    Gets a list of files in pathname directory and generates relative paths to all the files,\n",
    "    using os.path.join function.\n",
    "    Returns a list of relative paths to each file inside pathname directory.\n",
    "    \"\"\"\n",
    "    data_list = list_files_in(pathname)\n",
    "    pathname_list = list()\n",
    "    \n",
    "    for data in data_list:\n",
    "        pathname_list.append(os.path.join(pathname, data))\n",
    "        \n",
    "    return pathname_list"
   ]
  },
  {
   "cell_type": "code",
   "execution_count": 13,
   "id": "8ccde13f",
   "metadata": {},
   "outputs": [],
   "source": [
    "#all_paths variable \n",
    "all_paths = list_paths_in(\"data\")\n",
    "#print(all_paths)"
   ]
  },
  {
   "cell_type": "code",
   "execution_count": 57,
   "id": "ea2a56d3",
   "metadata": {},
   "outputs": [
    {
     "name": "stdout",
     "output_type": "stream",
     "text": [
      "['data/comment_data1.csv', 'data/comment_data2.csv', 'data/comment_data3.csv', 'data/comment_data4.csv', 'data/comment_data5.csv']\n"
     ]
    }
   ],
   "source": [
    "#comment_paths\n",
    "\n",
    "comment_paths = list()\n",
    "for i in range(len(all_paths)):\n",
    "    if \"comment_data\" in all_paths[i]:\n",
    "        comment_paths.append(all_paths[i])\n",
    "        \n",
    "print(comment_paths)"
   ]
  },
  {
   "cell_type": "code",
   "execution_count": 58,
   "id": "1c7a2432",
   "metadata": {},
   "outputs": [],
   "source": [
    "#channel_paths\n",
    "channel_paths = list()\n",
    "for i in range(len(all_paths)):\n",
    "    if \"channel_ids\" in all_paths[i]:\n",
    "        channel_paths.append(all_paths[i])\n",
    "        \n",
    "#print(channel_paths)"
   ]
  },
  {
   "cell_type": "code",
   "execution_count": 16,
   "id": "147119fc",
   "metadata": {},
   "outputs": [],
   "source": [
    "#channel dict - different than channel_path! matches up channel ids to channel names\n",
    "channel_dict = {}\n",
    "\n",
    "for path in channel_paths:\n",
    "    channel_mapping = get_mapping(path)\n",
    "    for channel in channel_mapping:\n",
    "        channel_dict[channel] = channel_mapping[channel]\n",
    "        \n",
    "#print(channel_dict)"
   ]
  },
  {
   "cell_type": "code",
   "execution_count": 64,
   "id": "6facfe03",
   "metadata": {},
   "outputs": [],
   "source": [
    "#comments dictionary - don't reinitialize!\n",
    "\n",
    "comments_dict = {}\n",
    "\n",
    "for comment in comments:\n",
    "    target_tuple = (comments[comment])\n",
    "    video_id = target_tuple.video_id\n",
    "    if video_id not in comments_dict:\n",
    "        comments_dict[video_id] = list()\n",
    "        comments_dict[video_id].append(comment)\n",
    "    else:\n",
    "        comments_dict[video_id].append(comment)\n",
    "        \n",
    "# too big, can't be printed. You can print small parts tho!"
   ]
  },
  {
   "cell_type": "code",
   "execution_count": null,
   "id": "d278c734",
   "metadata": {},
   "outputs": [],
   "source": []
  },
  {
   "cell_type": "code",
   "execution_count": null,
   "id": "768d64a0",
   "metadata": {},
   "outputs": [],
   "source": []
  },
  {
   "cell_type": "code",
   "execution_count": 80,
   "id": "3e77ea0a",
   "metadata": {},
   "outputs": [],
   "source": [
    "#chunky get videos function\n",
    "def get_videos(data_file, video_mapping_file):\n",
    "    \"\"\"\n",
    "    Given data_file (csv file) and video_mapping_file (json) file, generates a video\n",
    "    dictionary, mapping video ID to a dictionary containing title, and other details of the video.\n",
    "    Handles missing entry in video_ids.json by using try / except blocks to handle KeyError.\n",
    "    \"\"\"\n",
    "    data = process_csv(data_file)\n",
    "    header = data[0]\n",
    "    #print(header)\n",
    "    all_videos = data[1:]\n",
    "    video_mapping = get_mapping(video_mapping_file)\n",
    "    videos_dict = dict()\n",
    "    \n",
    "    video_id_idx = header.index(\"video_id\")\n",
    "    channel_id_idx = header.index(\"channel_id\")\n",
    "    published_at_idx = header.index(\"published_at\")\n",
    "    duration_idx = header.index(\"duration\")\n",
    "    category_idx = header.index(\"category\")\n",
    "    tags_idx = header.index(\"tags\")\n",
    "    views_idx = header.index(\"views\")\n",
    "    likes_idx = header.index(\"likes\")\n",
    "    dislikes_idx = header.index (\"dislikes\")\n",
    "    \n",
    "    #print(channel_dict)\n",
    "    \n",
    "    for video in all_videos:\n",
    "        #print(video)\n",
    "        try:\n",
    "            video_id = video[video_id_idx]\n",
    "            title = video_mapping[video_id]\n",
    "            channel_id = video[channel_id_idx]\n",
    "            channel_name = channel_dict[channel_id]\n",
    "            published_at = video[published_at_idx]\n",
    "            duration = video[duration_idx]\n",
    "            category = video[category_idx]\n",
    "            tags = video[tags_idx]\n",
    "            views = int(video[views_idx])\n",
    "            likes = int(video[likes_idx])\n",
    "            dislikes = int(video[dislikes_idx])\n",
    "            \n",
    "            comments = comments_dict[video_id]\n",
    "            \n",
    "            if video_id not in videos_dict:\n",
    "                videos_dict[video_id] = {}\n",
    "                videos_dict[video_id][\"title\"] = title\n",
    "                videos_dict[video_id][\"channel_name\"] = channel_name\n",
    "                videos_dict[video_id][\"published_at\"] = published_at\n",
    "                videos_dict[video_id][\"duration\"] = duration\n",
    "                videos_dict[video_id][\"category\"] = category\n",
    "                videos_dict[video_id][\"tags\"] = tags\n",
    "                videos_dict[video_id][\"views\"] = views\n",
    "                videos_dict[video_id][\"likes\"] = likes\n",
    "                videos_dict[video_id][\"dislikes\"] = dislikes\n",
    "                videos_dict[video_id][\"comments\"] = comments\n",
    "\n",
    "\n",
    "                \n",
    "                \n",
    "            \n",
    "        except Exception as e:\n",
    "            continue\n",
    "            \n",
    "#    \n",
    "    return videos_dict"
   ]
  },
  {
   "cell_type": "code",
   "execution_count": null,
   "id": "c4dfab7d",
   "metadata": {},
   "outputs": [],
   "source": [
    "#Plot dict function, plug in dictionary and label\n",
    "def plot_dict(d, label=\"Please Label Me!!!\"):\n",
    "    ax = pandas.Series(d).sort_index().plot.bar(color=\"black\", fontsize=16)\n",
    "    ax.set_ylabel(label, fontsize=16)"
   ]
  },
  {
   "cell_type": "code",
   "execution_count": 131,
   "id": "eff98818",
   "metadata": {},
   "outputs": [],
   "source": [
    "def scatter(x, y, xlabel=\"please label me!\", ylabel=\"please label me!\"):\n",
    "    df = pandas.DataFrame({\"x\":x, \"y\":y})\n",
    "    ax = df.plot.scatter(x=\"x\", y=\"y\", color=\"black\", fontsize=16, ylim=0)\n",
    "    ax.set_ylabel(ylabel, fontsize=16)\n",
    "    ax.set_xlabel(xlabel, fontsize=16)"
   ]
  },
  {
   "cell_type": "code",
   "execution_count": 83,
   "id": "6226eefa",
   "metadata": {},
   "outputs": [
    {
     "data": {
      "text/plain": [
       "dict_keys(['ex98DxvUiAc', '8y9QnS_tMkY', 'IwTkLFYYBKc', '2_9LOiY9Lpc', 'bUrxLCWy-us', '65yHrAJhHMk', 'VAnS_67h1Fw', 'wgZes7y6Bh8', '3iEHVVgCTPI', 'PxsGaHMQTC4', '4P8fKd0IVOs', 'g9pyKmmF3VM', 'p_i-ferkaoM', 'tu-w3QDw46w', 'lwRkRFnbMTQ', 'WrX1aGHK1lM', 'q-1HikE4b54', 'C8RAVJV6Je4', 'vKTl6DczK9k', 'itWFfuFFoSI', 'g7yKe_W_nRY', '707Rhr-QD3Y', 'vWT6YhSs76c', 'iGVpcKidejI', 'V3Ql2DthLJ8', 'DjRwSlVmEbc', '97Z3qSSbwkY', 'BDsaIzfB_qc', 'zk7_fyQDc5s', 'jJie6c5vJJs', 'iTSn_mCgQ0c', 'iyM0rkoO-XI', 'oCBF03d4u0o', 'mraaayzfg9w', '3tWbx5YhGF0', '1ERTKpn9qI8', 'hePyHdb6CMk', '1jrZrVGQoZ0', 'KSUWDJXPk6o', 'kpNjkd4rVXM', 'tzU2P1JfEJM', 'WTyBK0w90T0', '0MGmz9zxBG8', 'sJ6SQBWCPcQ', 'tUeIM8iTx3Q', '9KapEXWynrA', 'RrwQG38ovYw', 'dPnSpIKbgfg', 'L5jBHzsLiwQ', 'MhaZFNjaIw8', '1yLK-yfM3sc', 'OrcIAKgimfk', 'wHJBH4uwNfA', 'H9yhnMIpRS8', '6K_oo-AeNWQ', '8ghEl_ibLiI', 'uzEPvj46rGQ', 'XFZxbKmUCp0', 'qNUTz6dk4HE', 'asasI0kxZrU', 'Sd7E_EQxy_g', 'afCRuGS5zJo', 'emcfCsiIdE0', '-u5Dzq83YOI', 'xXTK7Atcgio', 'nv6kbR-0tMQ', 'jXxwVUYhseU', 'gXvPIdLWYQs', 'yEHAv9_OwY0', '2fsM4KLI7TI', 'C2dj59Db1C4', 'GHkUdA68YNI', 'EAp1piWU4pQ', 'dwI6JYirwzo', 'qlbBVSpVhjM', 'p3c4FneCNCU', 'laDllIpLs2s', '75yLWfqDTIU', 'eFyMO9ro9mI', 'wVD7TB0VUVI', '0FkYz2-KVS0', 'PukB9J1Mih8', 'ZUS8XfybkxQ', 'N9Ujzz7AQpk', '_Lx5VmAdZSI', 'DqwvyZxcW3g', 'g2rk1MA-aLU', '9W74aeuqsiU', 'A2g4u9F9i90', 'aEOX3OYIkds', 'wYoSuBUrcFQ', 'wN_s6_S2ppU', 'y3VebhRs0GQ', '8phM1_ODAIE', '4iVpjqcSzQw', 'j34GWfCyC1E', 'WNLRVNbNNW0', 'Q6nrP6zKhmA', 'bGIaSg9RlDU', 'hhmTrkxBNKc', 'laRhj-bERB0', 'uRBsnXLLC3Y', '60fbrXXIRI8', '6GM9aDU_9cE', 'QzjnugM8RXM', 'BiXOs0YuJvE', 'vfG6Zu3WkrA', 'bk284SXBxoo', 'YEaa62uBGa0', 'lapFQl6RezA', 'Ai5vNEDY8V8', 'Fxn9yKqz66k', 'L-q6Gz_4Yqc', 'fNwwt25mheo', '361LgylscdI', 'B7gKA1o31rM', 'nzWLvjloblc', 'Gj45dMUaLbc', 'EmwWVGm6P_c', 'qlKTNK7HKic', '3Ic1s8wELrc', 'gG1mjH2Dd6k', 'Ncs06UwPe2Y', 'VTVX9xw9OL0', 'e0ogNfICYek', 'tivlrT6TSHA', 'ddZzhumKs6k', 'sJ78CXTjtqE', 'f-1Pkce_jK0', 'gMbUeO4iGhY', 'foyDzdFbCmA', 'I1Rei-EpAB8', 'zoXwtMbAqWI', 'ynhNuSs2Xs0', '0lUesZzjO00', 'gF69voHU_ys', 'BX-YLG7wQmA', 'z4jlhW4Ws2s', 'as2u_EGqyqE', 'NvXRgTj4wG4', 'kbgUCVwbW3Y', '2yNnklW5HZU', 'cR9J_lRPzYc', '3FRN4ZkYKho', 'xPLDmGVHQW0', 'XH4Y8rziMg0', 'qo9Ri1qPInM', 'l0bzbVewmfY', 'ngTnjhV1fHs', 'PyLy4MgZXw0', '7wVXO3Z7q2k', 'gs0rZx309h4', 'CVl0hTaIOOw', 'WRqYkw_NRT8', '9SQeFvp4rY0', 's8TM6D_jLsU', 'Vh8Hg7U2eFg', 'rrpYKmU--10', 't2AB05DypWk', 'zNtNTpCVCbE', 'OBTs01UT6ec', '4Rjxj_5Y5go', 'Jk7OQpfxCe8', '02G9UKwkpEY', 'Btv-d7SkoG8', 'QmkUHwA-IXI', 'Dxnr2FAADAs', 'QsOrrd7HM_s', '94eqq_wZdYM', 'AE9tZ1sfcFE', 'CVsldjBMb3I', 'KpNA2habe1c', 'UIGI5PxvzEs', '-Ba4QVAE4q0', '87lWco0ChoA', '5rY6sMfX8P0', '5e8apSFDXsQ', 'Ldcs4Venq1Q', '6MEYdCUfQpc', 'JXUz8Js8Weg', 'MbWq-EwUy_M', 'SrLSYrQDFFY', 't9-VPmOMznk', 'f64eYElIWPU', 'lD19jNPXYEo', 'RAoUdFDEUnM', '0xn2RKnMhlc', 'Kdmm362PTo8', 'KU2EVVhfe44', '4p8tWdEIdho', 'BN_BHcfxPQU', 'cEh85Xt5Rr8', 'CMQAM-nfuBw', 'mCdubmKVf8g', 'UUhxtitgJFo', '1QzsgYY9leI', 'tqSwVr89fRA', 'jWIAoAzb4tk', 'rkiu8IGjG5Q', 'NtNDgOWN_2o', 'KCVjsbmVi0E', 'qxI-Ob8lpLE', '4q6UGCyHZCI', '8IBg0D5aUhs', 'ZZxF5cs3ZjM', 'w0HgHet0sxg', 'uDH_o8RqR0Y', 'FatRcVCV6IY', '_AzXUuM97Qk', '35gEQuOWxow', 'XgZcEO3JKHk', 'U2SNwtE-0Us', '3eRRwcTdhtE', '0XYQHB5Oy20', 'JSYSVcn60ik', 'U2D1GHHMb9g', 'uoY-O8D9F6I', 'RtYND6JaLe0', 'Oxa1CUR2KzM', '1vNRxP-oLOY', 'V3Dv2hnZTDs', 'X3e_4Ns58pE', 'Sc1YMgz9Fys', 'dJzHcEDddW0', 'XDt12oC0dEk', 'RL6vMvIF2B8', 'TnBv-37zN50', 'vEETehA9_Hc', '2_wJfTsOzjc', '8Za7hj3GY5o', 'F0dfaONvhCQ', 'wujAEGPVVuA', 'ALRtRJ1NQqc', '92WQjz9qStQ', 'BsKtDfMjHEo', 'leQc25bA3jg', 'QQu9QpBYos4', 'TYd_pT9hZrM', '2yDp41EpvdU', 'OSXbYwoCc5Y', 'BbzSoQCdIl8', '77hrMO0ZarU', 'WXBcZDxobo0', 'ymXnK6UX5zE', 'Hz_DslzN2IA', 'gsA6_yLOaoI', 'aRuCjdEqsa8', 'udNXMAflbU8', '1VN420bDjVY', 'NYlVKEFmGMI', 'JIPT9WC6Vsk', 'c-X9C4k9wAk', 'KjFxNXB5Pwo', 'Sf6H8kSunRA', 'F6fQLX0uW24', 'AwvyrO_yM4c', 'xIebUcOxkMg', 'q5HI2V7tV5I', 'bnjcauzuIas', '8moZaaNqhV8', '0JrGRiUOcfQ', '3iXhVImidBo', 'IWTxF9r2EaM', '2gWTmImEeXc', 'NDk1GEkJyGs', 'O14UfDsNOrQ', 'YYukZ8hDt8I', '9KWvZ-jCyqg', 'QRu06HWdFiE', 't9u6JMLpAUw', '1V-KE-Sy7Qg', 'ST1WQpQf624', 'CyBsAI19hj4', 'q3EHZCa38n0', '02g_Mn_rEoU', 'ES4S1aNsSb0', 'oSzziSyV7vU', 'se4snb8F9ZA', 'A8rrr_w8rfk', 'AtW81jzLx2o', 'Ar_qqRShHHU', 'yAKgRQ0kmm4', '74LaDIdx64c', '2BCFGjsrwyY', 'LQCQym6hVMo', 'aA_6z82JV8Q', 'rv_Y4hRDVzI', 'ZQJCVFhNZI4', 'KwUkFly-xQU', 'SR1nlD_IFkg', 'pm702Pj0IBQ', 'WrV3EAUNJ6U', 'jVd2_R5FJhc', 'Vft6BTps8Ow', 'f63MPkALoRA', 'Zd_C71THulw', '9yhfZqCX2Tk', 'Xbwg9ZBwMCU', 'o8UGIgfDhPs', 'NWkOSBGqe48', 'ACFuVRLvauI', '5zv1N78Tyw4', '94l272tK_Xk', 'ZGRpHy0qoN4', 'WYsrIhJEhio', 'cPy9u3sGk9Y', 'IPCbpZ6dXrs', 'uYIQsr9vsws', 'Q3tSVS4CeW4', 'T82RPTVgIz4', 'VY_equ7zL0s', 'TkOC6B3A5w0', 'mnApD7lD2iY', 'OP-CQdYR71s', 'FTIAXw28Z3Q', 'P3Pl8hy5G2w', 'yxiOnaTUows', 'lhEdmYFGvao', 'CzPS719c1vo', 'q0-OlbIif0I', 'lynVyLpeSnk', 'iI2lyqUbA0I', '1WzZ9nH-8tw', 'JPbd-25_Vi0', 'I4yJ8KKGfpY', '9J_FQUUiS0M', 'KXiRxAxD-QY', 'jRN2QDmyXx4', '1305aQZDojw', '7TcvY_IBG04', 'j_uOOGWMZfY', '_tpxHU2NFLk', 'ZEII5so6XpY', 'b9n2TX-86Vk', 'hDf-Gv-1ZpU', '9x3ZnXKYNdM', 'ZQecEVOlZh4', 'RC5EXFmzEs0', 'zBelKODpgU4', '_l0hpFGlGeo', '9Ihtbm8Ztrg', 'beToTslH17s', 'Flj-KI9fOoM', 'XdxGwg7cgjw', 'xaQJbozY_Is', 'a6fBD_XlSPE', 'kWfy87P__v0', '2BkVf2voCr0', '4ePYr_BM66Q', 'Z74O41hD_dE', '9QyDBOsu178', 'dIjmRLJHi5o', 'TMlwH1Up6uM', 'evzsfVW-BnU', 'wNVHLe8qgzw', 'fRw61WnEdD8', 's5SqsNPWYA4', 's6KHm2_cmbE', 'laPC4ibZnSM', 'GYlMID6G4Gc', 'iCvNo_bJMEg', 'FxQ39O0XtLo', 'JNhmhw60QDk', 'rqRqH30XGOk', 'Y-JnzpbfVkA', 'DgaRmRDtbWo', 'O2W2gUXAt78', '-PwfZcU-LQI', '6JtKkvxJiQ4', 'Hi2gayxePM4', 'zKWIV_6LQ8c', 'QilgLV6jbxU', 'HXzhcfYlKFQ', 'eas0dYKPU5M', '5NXlGgZQICs', 'FdzPV69i4Aw', 'SjHHJi5Sz8s', '7TDZdB0QtcQ', '40_wdosHJaQ', 'z7zSQAHvH-U', '6Mk5Mj43xIk', 'AxpxI8WCXCk', '6NXbU2nAUD4', 'VDxqKt4sZFU', 'PoBquo2zdGI', 'keAOhf4FFkQ', 'jVdBhu0KgJo', 'eIQuuoTQIoc', 'VDZ7_PUKseA', 'FLOcPilRw-M', 'nj6SlvxChEs', 'fkMW60W180E', '3eGP6im8AZA', 'ZjFcB1IeJuY', 'DYBM3myR914', 'R6HA8lGJ1-w', 'GlYS_wYsD44', 'EIVvDm9rjJE', 'eSsc1K27gek', 'G5s9D6DRLvk', 'p4iUUjpVLM4', 'XmF1fraGbJg', '22gBV3YhwFk', 'CznrNHHeF8k', 'jDKWMHfy7T0', 'r8e-QPSF5Yc', 'KS20rs_aC5s', 'nC7i1Kqt8iU', 'JXpKSh1S91U', 'Ujev6uH63RY', 'lNin9Oj7bDQ', 'qKu_rKQgFjY', 'g0-kd1r8Too', 'cNG1QNQPlNE', 'iYTK_1Sq8ZQ', 's72dhTVYKtM', '8swCrPIt4nY', 'dfJaOg3jo1M', 'kDx5WNdbCSU', 'sR0DLq2lMzU', 'nkMiPwL8G1w', 'R2ZFZte8YTE', '65WKv51FtiU', 'lBFPpQubOiE', '34j2S_FILJw', '4O1w9XFfZ2I', 'vyXUaNhqpqE', 'mLEZNNqcnLc', '4Oy9s3aHpjo', 'uZca3-jLlFw', 'sr8-2gN50ug', '4K_onb6zqc8', 'm244qbMUYZU', 'QTS3Rsp8j1M', 'n0vHo4Nf3Fg', 'Q0Fy-jiahN4', 'p7_TZagxjyk', 'B5B52z9-gIM', 'NGMTYj6m7F8', 'CB3MxRVzZZw', 's58orudNZ94', 'kqUUPueWUxE', 'oiY8yujLo5U', 'NEe0kkYQ9Cw', 'WwkzItbI65E', 'd_6qa-eWmPQ', 'qbXCBKGKdVU', 'bY26w4p3gEE', 'uMkrHwehUhA', 'g6LdBAbT1Xw', 'z2sGFFXuu38', '8-Cz_uG2OUM', '3lfBDZaMqM4', '8eBzunFJG1M', 'tXMXIj5nLno', 'D6V85qfsu3g', 'dDxe0vdWmU0', 'Z_SkdXnEyNU', 'SH9sgaNQg9g', 'sOhDuMGBfL4', 'UJzhOguEZlo', 'ffYTbzvJsr4', 'KX2DolRhv1E', '3menRFvxja0', 'v0gUM1FNd6g', '7Shn-TJaOrQ', 'Kdo3VfD3S7U', '52zuk_GcGUI', 'BlLMALH5Fzk', 'v9pprUeZRU0', 'Zw9Ezf43zmk', '3AJyg6sGBzs', 'sNsfvfEi27Y', 'Meaw4DlhNRE', 'GbPEQHzJaw0', 'kDFE92gA3Ag', 'Z_xUiW-ozHw', 'p646h_jLbeM', '2nv7qmefMqc', 'unkqwbJAKHs', 'zRCMPMGDN00', 'Oz2CuVf1MGo', 'ZMgY-J51i54', 'Ht9v8YLy-O4', 'OODneEUWUQY', 'QPRiHtDLdag', '5qcKiL7AOD8', '3B8g1RsZrlw', 'htok8ZvRwhM', '6KZi3PviIbA', 'awTXXr6D9nc'])"
      ]
     },
     "execution_count": 83,
     "metadata": {},
     "output_type": "execute_result"
    }
   ],
   "source": [
    "#videos\n",
    "videos = get_videos(os.path.join('data','video_data.csv'), os.path.join('data','video_ids.json'))\n"
   ]
  },
  {
   "cell_type": "code",
   "execution_count": 69,
   "id": "47ce4525",
   "metadata": {},
   "outputs": [],
   "source": [
    "#bucketizeing things\n",
    "comment_buckets = bucketize(\"comments\", videos)"
   ]
  },
  {
   "cell_type": "code",
   "execution_count": 70,
   "id": "4c3bce19",
   "metadata": {},
   "outputs": [],
   "source": [
    "#flatten function\n",
    "def flatten(some_list):\n",
    "    # Initialize an empty list into a variable called collection\n",
    "    collection = list()\n",
    "    \n",
    "    # Iterate over every item inside some_list\n",
    "    for i in range(len(some_list)):\n",
    "        if type(some_list[i]) == list:\n",
    "            flattened = (flatten(some_list[i]))\n",
    "            collection.extend(flattened)\n",
    "            \n",
    "        else:\n",
    "            collection.append(some_list[i])\n",
    "        \n",
    "    return collection"
   ]
  },
  {
   "cell_type": "code",
   "execution_count": 72,
   "id": "41f7b099",
   "metadata": {},
   "outputs": [],
   "source": [
    "# process duration - copied from p11 notes\n",
    "def process_duration(duration_str):\n",
    "\n",
    "    duration = int(duration_str[0:2]) * 3600 + int(duration_str[3:5]) * 60 + int(duration_str[6:8])\n",
    "    value = (duration // 300) * 5\n",
    "\n",
    "    return value"
   ]
  },
  {
   "cell_type": "code",
   "execution_count": 95,
   "id": "0dbcf587",
   "metadata": {},
   "outputs": [],
   "source": [
    "duration_mod_videos = copy.deepcopy(videos)\n",
    "for video_id in duration_mod_videos:\n",
    "    unmod_duration = (duration_mod_videos[video_id][\"duration\"])\n",
    "    mod_duration = process_duration(unmod_duration)\n",
    "    duration_mod_videos[video_id][\"duration\"] = mod_duration\n",
    "    \n",
    "duration_buckets = bucketize(\"duration\", duration_mod_videos)\n"
   ]
  },
  {
   "cell_type": "code",
   "execution_count": 98,
   "id": "9d2b7130",
   "metadata": {},
   "outputs": [
    {
     "data": {
      "image/png": "[encoded data removed]",
      "text/plain": [
       "<Figure size 432x288 with 1 Axes>"
      ]
     },
     "metadata": {
      "needs_background": "light"
     },
     "output_type": "display_data"
    }
   ],
   "source": [
    "#Q1: Plot the distribution of video durations as a histogram\n",
    "duration_numeral_dict = dict()\n",
    "for duration in duration_buckets:\n",
    "    duration_numeral_dict[duration] = len(duration_buckets[duration])\n",
    "    \n",
    "plot_dict(duration_numeral_dict, \"number of videos\")"
   ]
  },
  {
   "cell_type": "code",
   "execution_count": 113,
   "id": "22c09619",
   "metadata": {},
   "outputs": [
    {
     "data": {
      "image/png": "[encoded data removed]",
      "text/plain": [
       "<Figure size 432x288 with 1 Axes>"
      ]
     },
     "metadata": {
      "needs_background": "light"
     },
     "output_type": "display_data"
    }
   ],
   "source": [
    "#Q2: Plot the correlation between duration of video (x-axis) and average views (y-axis) as a histogram.\n",
    "duration_vs_views = dict()\n",
    "for duration in duration_buckets:\n",
    "    views_total = 0\n",
    "    if duration not in duration_vs_views:\n",
    "        duration_vs_views[duration] = 0\n",
    "    for video_id in duration_buckets[duration]:\n",
    "        views_total += (videos[video_id][\"views\"])\n",
    "    duration_vs_views[duration] = (views_total/(len(duration_buckets[duration])))\n",
    "    \n",
    "plot_dict(duration_vs_views, \"average views\")"
   ]
  },
  {
   "cell_type": "code",
   "execution_count": 114,
   "id": "3f7ec4ae",
   "metadata": {},
   "outputs": [
    {
     "name": "stdout",
     "output_type": "stream",
     "text": [
      "For key 10: expected float value 2218656.022222 but found 2187056.382022\n"
     ]
    },
    {
     "data": {
      "text/plain": [
       "False"
      ]
     },
     "execution_count": 114,
     "metadata": {},
     "output_type": "execute_result"
    }
   ],
   "source": [
    "#Q2.1 Verify your plot using verify_bar\n",
    "verify_bar(duration_vs_views, 2)"
   ]
  },
  {
   "cell_type": "code",
   "execution_count": 126,
   "id": "dbd285e1",
   "metadata": {},
   "outputs": [
    {
     "data": {
      "image/png": "[encoded data removed]",
      "text/plain": [
       "<Figure size 432x288 with 1 Axes>"
      ]
     },
     "metadata": {
      "needs_background": "light"
     },
     "output_type": "display_data"
    }
   ],
   "source": [
    "#Q3: Plot the correlation between the hour at which the video is published (x-axis) and the average number of views (y-axis) across all videos in that hour as a histogram.\n",
    "date_mod_videos = copy.deepcopy(videos)\n",
    "\n",
    "for video_id in date_mod_videos:\n",
    "    published_at = date_mod_videos[video_id][\"published_at\"]\n",
    "    utc_hour = int(published_at[11:13])\n",
    "    cdt_hour = (utc_hour-5)%24\n",
    "    date_mod_videos[video_id][\"published_at\"] = cdt_hour\n",
    "\n",
    "mod_date_buckets = bucketize(\"published_at\",date_mod_videos)\n",
    "\n",
    "published_vs_views = dict()\n",
    "\n",
    "for hour in mod_date_buckets:\n",
    "    views_total = 0\n",
    "    for video_id in mod_date_buckets[hour]:\n",
    "        views_total += videos[video_id][\"views\"]\n",
    "        \n",
    "    published_vs_views[hour] = views_total/(len(mod_date_buckets[hour]))\n",
    "\n",
    "plot_dict(published_vs_views, \"average views\")\n",
    "        \n"
   ]
  },
  {
   "cell_type": "code",
   "execution_count": 142,
   "id": "c9f18155",
   "metadata": {},
   "outputs": [
    {
     "data": {
      "image/png": "[encoded data removed]",
      "text/plain": [
       "<Figure size 432x288 with 1 Axes>"
      ]
     },
     "metadata": {
      "needs_background": "light"
     },
     "output_type": "display_data"
    }
   ],
   "source": [
    "#Q4: Plot the correlation between the views (x-axis) and likes (y-axis) on a video.\n",
    "\n",
    "views_vs_likes = dict()\n",
    "\n",
    "for video_id in videos:\n",
    "    views = (videos[video_id][\"views\"])\n",
    "    likes = videos[video_id][\"likes\"]\n",
    "    views_vs_likes[views] = likes\n",
    "\n",
    "scatter(views_vs_likes.keys(), views_vs_likes.values(), \"views\", \"likes\")"
   ]
  },
  {
   "cell_type": "code",
   "execution_count": 153,
   "id": "45691a32",
   "metadata": {},
   "outputs": [
    {
     "data": {
      "image/png": "[encoded data removed]",
      "text/plain": [
       "<Figure size 432x288 with 1 Axes>"
      ]
     },
     "metadata": {
      "needs_background": "light"
     },
     "output_type": "display_data"
    }
   ],
   "source": [
    "#Q5: Plot the correlation between the views (x-axis) and likes (y-axis) on a video with the outliers removed\n",
    "views_vs_likes_trimmed = dict()\n",
    "threshold = 10**7\n",
    "\n",
    "for views in views_vs_likes:\n",
    "    if views <= threshold:\n",
    "        views_vs_likes_trimmed[views] = views_vs_likes[views]\n",
    "        \n",
    "scatter(views_vs_likes_trimmed.keys(), views_vs_likes_trimmed.values(), \"views\", \"likes\")"
   ]
  },
  {
   "cell_type": "code",
   "execution_count": 158,
   "id": "3eb4a0e6",
   "metadata": {},
   "outputs": [
    {
     "data": {
      "image/png": "[encoded data removed]",
      "text/plain": [
       "<Figure size 432x288 with 1 Axes>"
      ]
     },
     "metadata": {
      "needs_background": "light"
     },
     "output_type": "display_data"
    }
   ],
   "source": [
    "#Q6: Plot the correlation between the views (x-axis) and audience engagement (y-axis) on a video.\n",
    "#engagement = comments/views\n",
    "\n",
    "views_vs_engagement = dict()\n",
    "\n",
    "for video in videos:\n",
    "    total_comments = len(videos[video][\"comments\"])\n",
    "    views = videos[video][\"views\"]\n",
    "    engagement = total_comments/views\n",
    "    views_vs_engagement[views] = engagement\n",
    "\n",
    "scatter(views_vs_engagement.keys(), views_vs_engagement.values(), \"views\", \"engagement\")"
   ]
  },
  {
   "cell_type": "code",
   "execution_count": 160,
   "id": "b1f27d52",
   "metadata": {},
   "outputs": [
    {
     "data": {
      "image/png": "[encoded data removed]",
      "text/plain": [
       "<Figure size 432x288 with 1 Axes>"
      ]
     },
     "metadata": {
      "needs_background": "light"
     },
     "output_type": "display_data"
    }
   ],
   "source": [
    "#Q7: Plot the correlation between the views (x-axis) and audience engagement (y-axis) on a video with the outliers removed.\n",
    "\n",
    "views_vs_engagement_trimmed = dict()\n",
    "for views in views_vs_engagement:\n",
    "    if views <= 1e7:\n",
    "        views_vs_engagement_trimmed[views] = views_vs_engagement[views]\n",
    "    \n",
    "scatter(views_vs_engagement_trimmed.keys(), views_vs_engagement_trimmed.values(), \"views\", \"engagement\")\n"
   ]
  },
  {
   "cell_type": "code",
   "execution_count": 173,
   "id": "2b893a90",
   "metadata": {},
   "outputs": [
    {
     "data": {
      "image/png": "[encoded data removed]",
      "text/plain": [
       "<Figure size 432x288 with 1 Axes>"
      ]
     },
     "metadata": {
      "needs_background": "light"
     },
     "output_type": "display_data"
    }
   ],
   "source": [
    "#Q8: Plot the correlation between the length of a comment text (x-axis) and the number of likes on the comment (y-axis).\n",
    "\n",
    "#Something is wrong here, not enirely sure whats up with the values. The core code is mostly correct tho\n",
    "length_vs_likes = dict()\n",
    "\n",
    "for comment in comments:\n",
    "    target_tuple = comments[comment]\n",
    "    likes = (target_tuple.likes)\n",
    "    length = target_tuple.comment_length\n",
    "    length_vs_likes[length] = likes\n",
    "    \n",
    "scatter(length_vs_likes.keys(), length_vs_likes.values(), \"likes\", \"comment length\")\n",
    "    \n",
    "\n",
    "\n",
    "\n"
   ]
  },
  {
   "cell_type": "code",
   "execution_count": 195,
   "id": "fad14c56",
   "metadata": {},
   "outputs": [],
   "source": [
    "#Q9: Plot the correlation between the length of a comment text (x-axis) and the number of likes on the comment (y-axis) with the outliers removed\n",
    "\n",
    "d\n",
    "\n",
    "\n"
   ]
  },
  {
   "cell_type": "code",
   "execution_count": 208,
   "id": "5db455b0",
   "metadata": {},
   "outputs": [],
   "source": [
    "def sort_comments_by_published_time(video_title):\n",
    "    # TODO: Loop through videos to find the video_id with this title\n",
    "    \n",
    "    for video in videos:\n",
    "        if videos[video][\"title\"] == video_title:\n",
    "            comment_id_pub_dict = dict()\n",
    "            comment_id_list = (videos[video][\"comments\"])\n",
    "            for comment_id in comment_id_list:\n",
    "                target_tuple = (comments[comment_id])\n",
    "                published_at = target_tuple.published_at\n",
    "                comment_id_pub_dict[comment_id] = published_at\n",
    "                \n",
    "    comment_id_pub_dict_sort = dict(sorted(comment_id_pub_dict.items(), key = lambda item: item[1]))\n",
    "    comments_list = list()\n",
    "    for i in comment_id_pub_dict_sort.keys():\n",
    "        comments_list.append(i)\n",
    "    \n",
    "    return(comments_list)           \n",
    "                \n",
    "    \n",
    "\n"
   ]
  },
  {
   "cell_type": "code",
   "execution_count": 214,
   "id": "ed3ad9b1",
   "metadata": {},
   "outputs": [
    {
     "data": {
      "text/plain": [
       "66"
      ]
     },
     "execution_count": 214,
     "metadata": {},
     "output_type": "execute_result"
    }
   ],
   "source": [
    "#Q10: What is the length of the first comment under the video \"If I lose a boss fight, the video ends 2 (Genshin Impact)\"?\n",
    "\n",
    "target_comments = sort_comments_by_published_time(\"If I lose a boss fight, the video ends 2 (Genshin Impact)\")\n",
    "first_comment = comments[target_comments[0]]\n",
    "first_comment.comment_length\n",
    "\n"
   ]
  },
  {
   "cell_type": "code",
   "execution_count": 219,
   "id": "1335b4cd",
   "metadata": {},
   "outputs": [
    {
     "data": {
      "text/plain": [
       "410.5"
      ]
     },
     "execution_count": 219,
     "metadata": {},
     "output_type": "execute_result"
    }
   ],
   "source": [
    "#Q11: What is the average number of likes for the first 5 comments under the video 'Facebook, Instagram and WhatsApp down in global outage'?\n",
    "\n",
    "target_comments = sort_comments_by_published_time('Facebook, Instagram and WhatsApp down in global outage')\n",
    "total_likes = 0\n",
    "average_likes = 0\n",
    "for comment in target_comments[0:6]:\n",
    "    total_likes += comments[comment].likes\n",
    "\n",
    "total_likes/len(target_comments[0:6])"
   ]
  },
  {
   "cell_type": "code",
   "execution_count": null,
   "id": "d7a97649",
   "metadata": {},
   "outputs": [],
   "source": [
    "def time_delta(start, end):\n",
    "    '''takes in start and end times in \"yyyy-mm-dd hh:mm:ss\" format and returns the number of days (as a float) between the two times '''\n",
    "    start_dt = dt.strptime(start,'%Y-%m-%d %H:%M:%S')\n",
    "    end_dt = dt.strptime(end, '%Y-%m-%d %H:%M:%S')\n",
    "    return (end_dt-start_dt).total_seconds()/86400"
   ]
  }
 ],
 "metadata": {
  "kernelspec": {
   "display_name": "Python 3 (ipykernel)",
   "language": "python",
   "name": "python3"
  },
  "language_info": {
   "codemirror_mode": {
    "name": "ipython",
    "version": 3
   },
   "file_extension": ".py",
   "mimetype": "text/x-python",
   "name": "python",
   "nbconvert_exporter": "python",
   "pygments_lexer": "ipython3",
   "version": "3.9.7"
  }
 },
 "nbformat": 4,
 "nbformat_minor": 5
}
